{
 "cells": [
  {
   "cell_type": "markdown",
   "metadata": {},
   "source": [
    " # Trabalho de Estatística"
   ]
  },
  {
   "cell_type": "markdown",
   "metadata": {},
   "source": [
    "### Introdução"
   ]
  },
  {
   "cell_type": "code",
   "execution_count": 54,
   "metadata": {},
   "outputs": [],
   "source": [
    "from scipy.stats import chi2_contingency\n",
    "import pandas\n",
    "import matplotlib.pyplot as plt\n",
    "import numpy as np"
   ]
  },
  {
   "cell_type": "code",
   "execution_count": 2,
   "metadata": {},
   "outputs": [],
   "source": [
    "df = pandas.read_csv('dados-es.csv', delimiter=';', encoding='latin1')"
   ]
  },
  {
   "cell_type": "code",
   "execution_count": 56,
   "metadata": {},
   "outputs": [],
   "source": [
    "# Limpando os dados, tirando dados nulos e coletando apenas os testes positivos de covid-19\n",
    "df = df[df['evolucaoCaso'].isnull()==False]\n",
    "df = df[df['sintomas'].isnull()==False]\n",
    "df = df[df['resultadoTeste']=='Positivo']"
   ]
  },
  {
   "cell_type": "markdown",
   "metadata": {},
   "source": [
    "## 1.Quais os sintomas mais relacionados a óbitos por COVID-19?\n",
    "\n",
    "Sabemos que os principais sintomas por covid são febre, tosse e falta de ar. Porém, não sabemos quais, a priori, são os mais responsáveis pelos óbitos. Com isso, queremos analisar qual sintoma mais frequênte em óbitos de pessoas com teste positivo para covid-19, ao mesmo tempo em que não é tão frequênte em pessoas que se recuperaram.\n",
    "\n",
    "\n",
    "### 1.1 Analisando dados dos óbitos:\n",
    "\n",
    "Vamos, primeiro, coletar os sintomas dos óbitos e computar as frequências desses sintomas."
   ]
  },
  {
   "cell_type": "code",
   "execution_count": 57,
   "metadata": {},
   "outputs": [],
   "source": [
    "df_obitos = df[df['evolucaoCaso']=='Óbito']"
   ]
  },
  {
   "cell_type": "code",
   "execution_count": 58,
   "metadata": {},
   "outputs": [],
   "source": [
    "df_rec = df[df['evolucaoCaso']=='Cura']"
   ]
  },
  {
   "cell_type": "code",
   "execution_count": 80,
   "metadata": {
    "scrolled": true
   },
   "outputs": [
    {
     "data": {
      "text/plain": [
       "[('Dispneia',\n",
       "  (14470.149009258112,\n",
       "   0.0,\n",
       "   1,\n",
       "   array([[  2150.61993664,   6541.38006336],\n",
       "          [ 40179.38006336, 122210.61993664]]))),\n",
       " ('Febre',\n",
       "  (2686.572691329994, 0.0, 1, array([[ 4579.91103681,  4112.08896319],\n",
       "          [85565.08896319, 76824.91103681]]))),\n",
       " ('Tosse',\n",
       "  (1787.2388988181701,\n",
       "   0.0,\n",
       "   1,\n",
       "   array([[  5633.73004758,   3058.26995242],\n",
       "          [105253.26995242,  57136.73004758]]))),\n",
       " ('Dor de Garganta',\n",
       "  (1533.9678714476772,\n",
       "   0.0,\n",
       "   1,\n",
       "   array([[  2403.73565892,   6288.26434108],\n",
       "          [ 44908.26434108, 117481.73565892]]))),\n",
       " ('Distúrbios Olfativos',\n",
       "  (1260.9952740099732,\n",
       "   3.3852831671172155e-276,\n",
       "   1,\n",
       "   array([[  1362.00848716,   7329.99151284],\n",
       "          [ 25445.99151284, 136944.00848716]]))),\n",
       " ('Distúrbios Gustativos',\n",
       "  (1116.2662654874546,\n",
       "   9.627826402497673e-245,\n",
       "   1,\n",
       "   array([[  1299.72027449,   7392.27972551],\n",
       "          [ 24282.27972551, 138107.72027449]]))),\n",
       " ('Coriza',\n",
       "  (694.734998325629,\n",
       "   4.1746445643378e-153,\n",
       "   1,\n",
       "   array([[  2549.49820554,   6142.50179446],\n",
       "          [ 47631.50179446, 114758.49820554]]))),\n",
       " ('Assintomático',\n",
       "  (485.09339187403725,\n",
       "   1.6651180187486216e-107,\n",
       "   1,\n",
       "   array([[   843.78681568,   7848.21318432],\n",
       "          [ 15764.21318432, 146625.78681568]]))),\n",
       " ('Outros',\n",
       "  (10.51584939541589,\n",
       "   0.0011835501728513177,\n",
       "   1,\n",
       "   array([[1.62071287e+01, 8.67579287e+03],\n",
       "          [3.02792871e+02, 1.62087207e+05]]))),\n",
       " ('Dor De Garganta',\n",
       "  (0.0, 1.0, 1, array([[1.06692697e+00, 8.69093307e+03],\n",
       "          [1.99330730e+01, 1.62370067e+05]])))]"
      ]
     },
     "execution_count": 80,
     "metadata": {},
     "output_type": "execute_result"
    }
   ],
   "source": [
    "sintomas = compute_freq(df_obitos, l=False)\n",
    "\n",
    "chi_sintomas = []\n",
    "\n",
    "for s in sintomas:\n",
    "    A = df_obitos[df_obitos['sintomas'].str.contains(s)].shape[0]\n",
    "    B = df_obitos.shape[0] - A\n",
    "    C = df_rec[df_rec['sintomas'].str.contains(s)].shape[0]\n",
    "    D = df_rec.shape[0] - C\n",
    "    \n",
    "    chi_sintomas.append((s, chi2_contingency( np.array ([[A,B],[C,D]]) )))\n",
    "\n",
    "chi_sintomas.sort(key = lambda k1: k1[1][0], reverse=True)    \n",
    "chi_sintomas"
   ]
  },
  {
   "cell_type": "code",
   "execution_count": null,
   "metadata": {},
   "outputs": [],
   "source": []
  },
  {
   "cell_type": "code",
   "execution_count": 5,
   "metadata": {},
   "outputs": [],
   "source": [
    "# muda nome dos sintomas\n",
    "\n",
    "def change_key_name(d, k1, k2):\n",
    "    if k1 in d:\n",
    "        t = d[k1]\n",
    "        del d[k1]\n",
    "        d[k2] = t\n"
   ]
  },
  {
   "cell_type": "code",
   "execution_count": 74,
   "metadata": {},
   "outputs": [],
   "source": [
    "# computa frequencia sintomas de obitos\n",
    "\n",
    "def compute_freq(d, l=True):\n",
    "    f = {}\n",
    "    for sintomas in d['sintomas']:\n",
    "        sintomas = sintomas.strip()\n",
    "        if l:\n",
    "            sintomas = sintomas.lower()\n",
    "            sintomas = sintomas.replace(' ', '')\n",
    "        for sintoma in sintomas.split(','):\n",
    "            if len(sintoma) == 0:\n",
    "                continue\n",
    "            if sintoma not in f:\n",
    "                f[sintoma.strip()] = 0\n",
    "            f[sintoma.strip()] += 1\n",
    "    return f\n",
    "\n"
   ]
  },
  {
   "cell_type": "code",
   "execution_count": 60,
   "metadata": {},
   "outputs": [
    {
     "data": {
      "text/plain": [
       "{'tosse': 103419,\n",
       " 'febre': 83214,\n",
       " 'outros': 316,\n",
       " 'dispneia': 35464,\n",
       " 'dordegarganta': 54017,\n",
       " 'distúrbiosolfativos': 26622,\n",
       " 'distúrbiosgustativos': 25369,\n",
       " 'assintomático': 16357,\n",
       " 'coriza': 46541,\n",
       " 'dordecabeça': 99}"
      ]
     },
     "execution_count": 60,
     "metadata": {},
     "output_type": "execute_result"
    }
   ],
   "source": [
    "freq_sintomas_rec = compute_freq(df_rec)\n",
    "freq_sintomas_rec"
   ]
  },
  {
   "cell_type": "code",
   "execution_count": 45,
   "metadata": {},
   "outputs": [],
   "source": [
    "sintomas_f = compute_freq(df_obitos)\n",
    "change_key_name(sintomas_f, 'distúrbiosolfativos', 'dist. olfat.')\n",
    "change_key_name(sintomas_f, 'distúrbiosgustativos', 'dist. gust.')\n",
    "change_key_name(sintomas_f, 'dordegarganta', 'dor.garg.')\n",
    "change_key_name(sintomas_f, 'dordecabeça', 'dor.cabec.')\n",
    "if 'dor.cabec.' not in sintomas_f:\n",
    "    sintomas_f['dor.cabec.'] = 0\n",
    "sintomas_f = {k:sintomas_f[k] for k in sorted(sintomas_f)}"
   ]
  },
  {
   "cell_type": "code",
   "execution_count": 44,
   "metadata": {},
   "outputs": [],
   "source": [
    "change_key_name(freq_sintomas_rec, 'distúrbiosolfativos', 'dist. olfat.')\n",
    "change_key_name(freq_sintomas_rec, 'distúrbiosgustativos', 'dist. gust.')\n",
    "change_key_name(freq_sintomas_rec, 'dordegarganta', 'dor.garg.')\n",
    "change_key_name(freq_sintomas_rec, 'dordecabeça', 'dor.cabec.')\n",
    "freq_sintomas_rec = {k:freq_sintomas_rec[k] for k in sorted(freq_sintomas_rec)}"
   ]
  },
  {
   "cell_type": "code",
   "execution_count": 47,
   "metadata": {
    "scrolled": true
   },
   "outputs": [
    {
     "name": "stdout",
     "output_type": "stream",
     "text": [
      "['assintomático', 'coriza', 'dispneia', 'dist. gust.', 'dist. olfat.', 'dor.cabec.', 'dor.garg.', 'febre', 'outros', 'tosse']\n",
      "[1.5113198458574182, 7.253741455929535, 16.220174816914717, 0.8481200656609084, 0.7049345417925479, 0.0, 2.1980409552606326, 7.688723722890898, 0.9404388714733543, 6.7347840594479065]\n"
     ]
    },
    {
     "data": {
      "image/png": "[encoded data removed]",
      "text/plain": [
       "<Figure size 2160x504 with 1 Axes>"
      ]
     },
     "metadata": {
      "needs_background": "light"
     },
     "output_type": "display_data"
    }
   ],
   "source": [
    "# realiza o plot do gráfico\n",
    "\n",
    "sintomas = [s for s in sintomas_f]\n",
    "\n",
    "taxa_obitos = [100*sintomas_f[s]/(sintomas_f[s]+freq_sintomas_rec[s]) for s in sintomas_f]\n",
    "\n",
    "print(sintomas)\n",
    "#numeros = [(sintomas_f[s]) for s in sintomas_f]\n",
    "print(taxa_obitos)\n",
    "f = plt.figure()\n",
    "f.set_figwidth(30)\n",
    "f.set_figheight(7)\n",
    "\n",
    "plt.title('Óbitos por Sintomas')\n",
    "\n",
    "plt.ylabel(\"Obitos (%)\")\n",
    "plt.xlabel(\"Sintomas\")\n",
    "\n",
    "plt.rc('font', size=20) \n",
    "plt.bar(sintomas, taxa_obitos, width=0.4)\n",
    "plt.show()"
   ]
  },
  {
   "cell_type": "markdown",
   "metadata": {},
   "source": [
    "No gráfico acima, podemos perceber que o sintoma mais comum entre os óbitos foi tosse, e o menos comum, disturbio de olfato. Agora, precisamos comparar com os sintomas de quem se recuperou."
   ]
  },
  {
   "cell_type": "code",
   "execution_count": null,
   "metadata": {},
   "outputs": [],
   "source": []
  },
  {
   "cell_type": "markdown",
   "metadata": {},
   "source": [
    "## Conclusão\n",
    "\n",
    "A partir do gráfico de comparação de sintomas de recuperados e óbitos, é possível notar que a dispnéia é o principal sintoma relacionado à óbito por covid-19, visto que cerca de 80% dos óbitos tiveram este sintoma, enquanto apenas 20% de quem se recuperou o teve.\n",
    "\n",
    "Sintomas como febre e tosse tiveram foram muito presentes em casos de óbitos e recuperados."
   ]
  }
 ],
 "metadata": {
  "kernelspec": {
   "display_name": "Python 3",
   "language": "python",
   "name": "python3"
  },
  "language_info": {
   "codemirror_mode": {
    "name": "ipython",
    "version": 3
   },
   "file_extension": ".py",
   "mimetype": "text/x-python",
   "name": "python",
   "nbconvert_exporter": "python",
   "pygments_lexer": "ipython3",
   "version": "3.8.10"
  }
 },
 "nbformat": 4,
 "nbformat_minor": 4
}
