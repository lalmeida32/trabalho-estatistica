{
 "cells": [
  {
   "cell_type": "markdown",
   "metadata": {},
   "source": [
    " # Primeiro Questionamento"
   ]
  },
  {
   "cell_type": "markdown",
   "metadata": {},
   "source": [
    "## Quais os sintomas mais relacionados a óbitos por COVID-19?\n",
    "\n",
    "Sabemos que os principais sintomas por covid são febre, tosse e falta de ar. Porém, não sabemos quais, a priori, são os mais responsáveis pelos óbitos. Com isso, queremos analisar qual sintoma mais frequênte em óbitos de pessoas com teste positivo para covid-19, ao mesmo tempo em que não é tão frequênte em pessoas que se recuperaram.\n",
    "\n"
   ]
  },
  {
   "cell_type": "markdown",
   "metadata": {},
   "source": [
    "## Inicialização"
   ]
  },
  {
   "cell_type": "code",
   "execution_count": 1,
   "metadata": {},
   "outputs": [
    {
     "ename": "ModuleNotFoundError",
     "evalue": "No module named 'scipy'",
     "output_type": "error",
     "traceback": [
      "\u001b[1;31m---------------------------------------------------------------------------\u001b[0m",
      "\u001b[1;31mModuleNotFoundError\u001b[0m                       Traceback (most recent call last)",
      "\u001b[1;32m~\\AppData\\Local\\Temp/ipykernel_5728/543659184.py\u001b[0m in \u001b[0;36m<module>\u001b[1;34m\u001b[0m\n\u001b[1;32m----> 1\u001b[1;33m \u001b[1;32mfrom\u001b[0m \u001b[0mscipy\u001b[0m\u001b[1;33m.\u001b[0m\u001b[0mstats\u001b[0m \u001b[1;32mimport\u001b[0m \u001b[0mchi2_contingency\u001b[0m\u001b[1;33m,\u001b[0m \u001b[0mnorm\u001b[0m\u001b[1;33m\u001b[0m\u001b[1;33m\u001b[0m\u001b[0m\n\u001b[0m\u001b[0;32m      2\u001b[0m \u001b[1;32mfrom\u001b[0m \u001b[0mmath\u001b[0m \u001b[1;32mimport\u001b[0m \u001b[0msqrt\u001b[0m\u001b[1;33m\u001b[0m\u001b[1;33m\u001b[0m\u001b[0m\n\u001b[0;32m      3\u001b[0m \u001b[1;32mimport\u001b[0m \u001b[0mpandas\u001b[0m\u001b[1;33m\u001b[0m\u001b[1;33m\u001b[0m\u001b[0m\n\u001b[0;32m      4\u001b[0m \u001b[1;32mimport\u001b[0m \u001b[0mmatplotlib\u001b[0m\u001b[1;33m.\u001b[0m\u001b[0mpyplot\u001b[0m \u001b[1;32mas\u001b[0m \u001b[0mplt\u001b[0m\u001b[1;33m\u001b[0m\u001b[1;33m\u001b[0m\u001b[0m\n\u001b[0;32m      5\u001b[0m \u001b[1;32mimport\u001b[0m \u001b[0mnumpy\u001b[0m \u001b[1;32mas\u001b[0m \u001b[0mnp\u001b[0m\u001b[1;33m\u001b[0m\u001b[1;33m\u001b[0m\u001b[0m\n",
      "\u001b[1;31mModuleNotFoundError\u001b[0m: No module named 'scipy'"
     ]
    }
   ],
   "source": [
    "from scipy.stats import chi2_contingency, norm\n",
    "from math import sqrt\n",
    "import pandas\n",
    "import matplotlib.pyplot as plt\n",
    "import numpy as np"
   ]
  },
  {
   "cell_type": "code",
   "execution_count": null,
   "metadata": {},
   "outputs": [],
   "source": [
    "df = pandas.read_csv('dados-es.csv', delimiter=';', encoding='latin1')"
   ]
  },
  {
   "cell_type": "code",
   "execution_count": null,
   "metadata": {},
   "outputs": [],
   "source": [
    "# Limpando os dados, tirando dados nulos e coletando apenas os testes positivos de covid-19\n",
    "# e com evolução do caso sendo Óbito ou Cura\n",
    "\n",
    "df = df[df['evolucaoCaso'].isnull()==False]\n",
    "df = df[df['sintomas'].isnull()==False]\n",
    "df = df[df['resultadoTeste']=='Positivo']\n",
    "df = df[df['evolucaoCaso'].isin(['Óbito', 'Cura'])]"
   ]
  },
  {
   "cell_type": "code",
   "execution_count": null,
   "metadata": {},
   "outputs": [],
   "source": [
    "# Dados dos Óbitos\n",
    "df_obitos = df[df['evolucaoCaso']=='Óbito']\n",
    "\n",
    "# Dados dos Recuperados\n",
    "df_rec = df[df['evolucaoCaso']=='Cura']"
   ]
  },
  {
   "cell_type": "code",
   "execution_count": null,
   "metadata": {},
   "outputs": [],
   "source": [
    "# computa frequencia dos sintomas de obitos\n",
    "\n",
    "def compute_freq(d, l=True):\n",
    "    f = {}\n",
    "    for sintomas in d['sintomas']:\n",
    "        sintomas = sintomas.strip()\n",
    "        if l:\n",
    "            sintomas = sintomas.lower()\n",
    "            sintomas = sintomas.replace(' ', '')\n",
    "        for sintoma in sintomas.split(','):\n",
    "            if len(sintoma) == 0:\n",
    "                continue\n",
    "            if sintoma.strip() not in f:\n",
    "                f[sintoma.strip()] = 0\n",
    "            f[sintoma.strip()] += 1\n",
    "    return f\n",
    "\n"
   ]
  },
  {
   "cell_type": "markdown",
   "metadata": {},
   "source": [
    "---\n",
    "## Erro no Intervalo de Confiança de 95%\n",
    "\n",
    "Inicialmente vamos conferir se os dados são confiáveis. Para isso, calcularemos o intervalo de confiança para proporção com relação a cada sintoma, pois, dessa forma, conseguiremos analisar se a quantidade de dados é suficiente para realizar inferências."
   ]
  },
  {
   "cell_type": "code",
   "execution_count": null,
   "metadata": {
    "scrolled": false
   },
   "outputs": [],
   "source": [
    "#sintomas de quem teve óbito e foi curado\n",
    "sintomas_all = compute_freq(df, l=False)\n",
    "\n",
    "for sintoma in sintomas_all:\n",
    "    n = sintomas_all[sintoma]\n",
    "    print(sintoma)\n",
    "    print(norm.ppf(0.025)/sqrt(4*n), end='\\n\\n')"
   ]
  },
  {
   "cell_type": "markdown",
   "metadata": {},
   "source": [
    "Como podemos ver, usando um intervalo com 95% de confiança, os erros da maior parte das estatísticas a serem analisadas são bastante pequenos. No entanto, o erro do sintoma \"Dor de Cabeça\" acaba sendo inadequado para ser analisado."
   ]
  },
  {
   "cell_type": "markdown",
   "metadata": {},
   "source": [
    "## Análise da Proporção de Óbito em Pacientes com Determinado Sintoma\n"
   ]
  },
  {
   "cell_type": "code",
   "execution_count": null,
   "metadata": {
    "scrolled": false
   },
   "outputs": [],
   "source": [
    "# realiza o plot do gráfico\n",
    "\n",
    "sintomas_obito = compute_freq(df_obitos, l=False)\n",
    "\n",
    "sintomas_obito_nomes = [s for s in sintomas_obito]\n",
    "\n",
    "taxa_obitos = [100*sintomas_obito[s]/(sintomas_all[s]) for s in sintomas_obito]\n",
    "\n",
    "f = plt.figure()\n",
    "f.set_figwidth(40)\n",
    "f.set_figheight(13)\n",
    "\n",
    "plt.title('Óbitos por Sintomas')\n",
    "\n",
    "plt.ylabel(\"Obitos (%)\")\n",
    "plt.xlabel(\"Sintomas\")\n",
    "\n",
    "plt.rc('font', size=20) \n",
    "plt.bar(sintomas_obito_nomes, taxa_obitos, width=0.4)\n",
    "plt.show()"
   ]
  },
  {
   "cell_type": "markdown",
   "metadata": {},
   "source": [
    "Como mostrado no gráfico, a dispineia é o sintoma que está mais relacionado a óbitos, com cerca de 16% dos casos com este sintoma tendo culminado em morte."
   ]
  },
  {
   "cell_type": "markdown",
   "metadata": {},
   "source": [
    "## Análise Inferencial\n",
    "\n",
    "Os sintomas devem com certeza estar relacionados ao óbito. Mas podemos afirmar que existe dependência entre as variáveis óbito e sintoma? Para responder essa questão, usaremos teste qui-quadrado para verificar a interdependência dos dados.\n",
    "\n",
    "Então, para cada um dos sintomas, faremos uma tabela (A, B, C, D) contendo o número de mortes pelo sintoma analisado."
   ]
  },
  {
   "cell_type": "code",
   "execution_count": null,
   "metadata": {
    "scrolled": true
   },
   "outputs": [],
   "source": [
    "chi_sintomas = []\n",
    "\n",
    "sintomas_rec = compute_freq(df_rec, l=False)\n",
    "\n",
    "for s in sintomas_obito:\n",
    "    A = sintomas_obito[s]\n",
    "    B = len(df_obitos) - A\n",
    "    C = sintomas_rec[s]\n",
    "    D = len(df_rec) - C\n",
    "    \n",
    "    chi_sintomas.append((s, chi2_contingency( np.array ([[A,B],[C,D]]) )))\n",
    "\n",
    "chi_sintomas.sort(key = lambda k1: k1[1][0], reverse=True)  \n",
    "\n",
    "for sintoma, chi in chi_sintomas[:-2]:\n",
    "    print(f'{sintoma}:\\nz = {chi[0]}\\np-value = {chi[1]}')\n",
    "    print()\n",
    "    "
   ]
  },
  {
   "cell_type": "markdown",
   "metadata": {},
   "source": [
    "Feito isso, percebemos que, na verdade, há dependência com relação em todos os sintomas, visto que o p-value de todos eles foi zero (ou aproximadamente)."
   ]
  },
  {
   "cell_type": "markdown",
   "metadata": {},
   "source": [
    "## Conclusão\n",
    "\n",
    "Podemos concluir, feito a análise inferencial, que a dispineia é o sintoma que possui maior relação com casos de óbitos de pessoas que tiveram covid-19, tendo em vista que ela teve o maior valor significativo no teste Qui-Quadrado, isto é, é o sintoma que possui maior probabilidade de ter dependência com os óbitos."
   ]
  }
 ],
 "metadata": {
  "kernelspec": {
   "display_name": "Python 3 (ipykernel)",
   "language": "python",
   "name": "python3"
  },
  "language_info": {
   "codemirror_mode": {
    "name": "ipython",
    "version": 3
   },
   "file_extension": ".py",
   "mimetype": "text/x-python",
   "name": "python",
   "nbconvert_exporter": "python",
   "pygments_lexer": "ipython3",
   "version": "3.9.9"
  }
 },
 "nbformat": 4,
 "nbformat_minor": 4
}
