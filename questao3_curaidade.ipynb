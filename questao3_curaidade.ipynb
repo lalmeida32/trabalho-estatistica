{
 "cells": [
  {
   "cell_type": "markdown",
   "id": "6ed0f377",
   "metadata": {
    "id": "sMwcSZ1KZhGL"
   },
   "source": [
    "# Terceiro questionamento\n",
    "## Qual faixa etária teve mais casos “Cura” na evolução do caso? Quais as justificativas para isso?\n",
    "\n",
    "Sabemos que existem grupos de riscos que são mais afetados pelas doenças e tem uma recuperação mais dificultada. Portanto, por meio dos dados, queremos mostrar se o índice de cura dentre as faixas etária muda, e tambem descobrir qual é a faixa etária em que a cura foi mais presente. Ou seja, será que poderemos afirmar que os jovens têm uma taxa de recuperação maior do que a dos idosos?\n",
    "\n",
    "\n",
    "\n"
   ]
  },
  {
   "cell_type": "markdown",
   "id": "33217fea",
   "metadata": {
    "id": "OBm-v8v1g5tS"
   },
   "source": [
    "## Inicialização"
   ]
  },
  {
   "cell_type": "code",
   "execution_count": 28,
   "id": "7cfac47c",
   "metadata": {
    "id": "c1272b69"
   },
   "outputs": [],
   "source": [
    "import pandas as pd\n",
    "import matplotlib.pyplot as plt\n",
    "import numpy as np  \n",
    "import matplotlib.ticker as mtick"
   ]
  },
  {
   "cell_type": "code",
   "execution_count": 29,
   "id": "28526f1c",
   "metadata": {
    "id": "7b73adfa"
   },
   "outputs": [],
   "source": [
    "path = 'dados-es.csv'\n",
    "\n",
    "df = pd.read_csv(path, delimiter=';', encoding='latin1')"
   ]
  },
  {
   "cell_type": "code",
   "execution_count": 30,
   "id": "7cf26ff3",
   "metadata": {
    "id": "73b8949a"
   },
   "outputs": [],
   "source": [
    "# Ajustes na tabela\n",
    "df = df.drop(columns=[\"ÿid\"])"
   ]
  },
  {
   "cell_type": "code",
   "execution_count": 35,
   "id": "49eb47c5",
   "metadata": {},
   "outputs": [
    {
     "name": "stdout",
     "output_type": "stream",
     "text": [
      "False    943571\n",
      "True        122\n",
      "Name: sintomas, dtype: int64\n",
      "Tosse, Febre, Dor de Garganta\n"
     ]
    }
   ],
   "source": [
    "sintomas = df['sintomas'].unique()\n",
    "\n",
    "\n",
    "print(df['sintomas'].str.contains(sintomas[0]).value_counts())\n",
    "print(sintomas[0])"
   ]
  },
  {
   "cell_type": "markdown",
   "id": "ff6594ee",
   "metadata": {
    "id": "Dh7rT8y-bxRq"
   },
   "source": [
    "---\n",
    "## Análise descritiva\n",
    "\n",
    "### Analisando campo Idade"
   ]
  },
  {
   "cell_type": "code",
   "execution_count": 4,
   "id": "1891ecf2",
   "metadata": {
    "colab": {
     "base_uri": "https://localhost:8080/"
    },
    "id": "5c48e6d1",
    "outputId": "596ca3a5-dcd7-4d2a-c838-5706c73b5a8b"
   },
   "outputs": [
    {
     "name": "stdout",
     "output_type": "stream",
     "text": [
      "numero de linhas antes:  949987\n",
      "numero de linhas depois:  949983\n"
     ]
    }
   ],
   "source": [
    "# Retirando as linhas cuja idade é null\n",
    "\n",
    "print(\"numero de linhas antes: \", df.shape[0])\n",
    "\n",
    "df = df.dropna(subset=['idade'])\n",
    "\n",
    "print(\"numero de linhas depois: \",  df.shape[0])"
   ]
  },
  {
   "cell_type": "code",
   "execution_count": 6,
   "id": "46a86ec6",
   "metadata": {
    "colab": {
     "base_uri": "https://localhost:8080/",
     "height": 392
    },
    "id": "b28c219d",
    "outputId": "8d7dcf9e-8a92-4354-ff43-9127a2f47a95"
   },
   "outputs": [
    {
     "data": {
      "text/plain": [
       "<AxesSubplot:>"
      ]
     },
     "execution_count": 6,
     "metadata": {},
     "output_type": "execute_result"
    },
    {
     "data": {
      "image/png": "[encoded data removed]",
      "text/plain": [
       "<Figure size 864x432 with 1 Axes>"
      ]
     },
     "metadata": {
      "needs_background": "light"
     },
     "output_type": "display_data"
    }
   ],
   "source": [
    "fig, myax = plt.subplots(figsize=(12, 6))\n",
    "myax.set_xlim([-5, 235])\n",
    "\n",
    "df.boxplot(column='idade', vert=False, figsize=(6,3), ax=myax)"
   ]
  },
  {
   "cell_type": "markdown",
   "id": "f67880b9",
   "metadata": {
    "id": "MSAyo95_eLkE"
   },
   "source": [
    "Como podemos ver, a maioria dos casos tem idade entre 25 e 50 anos, porém, tambem vemos que existem idades exorbitantes como 250 anos. Esses são *outliers*, e devemos remove-los. Aqui vamos considerar idades maiores que 110 *outliers*:"
   ]
  },
  {
   "cell_type": "code",
   "execution_count": 9,
   "id": "6926431b",
   "metadata": {
    "colab": {
     "base_uri": "https://localhost:8080/"
    },
    "id": "d5c8f81c",
    "outputId": "62e8b56d-fe7a-40db-af15-be7d90b8ea00"
   },
   "outputs": [
    {
     "name": "stdout",
     "output_type": "stream",
     "text": [
      "numero de linhas antes:  949983\n",
      "numero de linhas depois:  949962\n"
     ]
    }
   ],
   "source": [
    "# Retirando linhas cuja idade é maior do que 110\n",
    "\n",
    "print(\"numero de linhas antes: \", df.shape[0])\n",
    "\n",
    "df_rec = df[df['idade']<110]\n",
    "\n",
    "print(\"numero de linhas depois: \",  df_rec.shape[0])"
   ]
  },
  {
   "cell_type": "markdown",
   "id": "bfdf962e",
   "metadata": {
    "id": "2YlNfniJfDrM"
   },
   "source": [
    "---\n",
    "\n",
    "Com isso finalizamos o tratamento da idade, pois agora todos os dados da idade fazem sentido e tambem nao reduzimos drasticamente o tamanho do nosso dataframe, já que continua na cas do 949 mil linhas.\n",
    "\n",
    "### Avalisando Evolução caso\n",
    "Agora, iremos nos preocupar em analisar a coluna evoluçãoCaso, porque é nela que contem a informação sobre a cura do paciente."
   ]
  },
  {
   "cell_type": "code",
   "execution_count": 10,
   "id": "5c43bd51",
   "metadata": {
    "colab": {
     "base_uri": "https://localhost:8080/"
    },
    "id": "2e75bb48",
    "outputId": "17b1b127-a286-482d-d9c6-ea9c6f243cba"
   },
   "outputs": [
    {
     "data": {
      "text/plain": [
       "array([nan, 'Cura', 'Em tratamento domiciliar', 'Cancelado', 'Ignorado',\n",
       "       'Internado em UTI', 'Óbito', 'Internado'], dtype=object)"
      ]
     },
     "execution_count": 10,
     "metadata": {},
     "output_type": "execute_result"
    }
   ],
   "source": [
    "df['evolucaoCaso'].unique()"
   ]
  },
  {
   "cell_type": "code",
   "execution_count": 11,
   "id": "a22a2a05",
   "metadata": {
    "id": "c6077973"
   },
   "outputs": [],
   "source": [
    "df_rec = df_rec[['idade', 'evolucaoCaso', 'condicoes']]"
   ]
  },
  {
   "cell_type": "code",
   "execution_count": 12,
   "id": "fee53cb4",
   "metadata": {
    "colab": {
     "base_uri": "https://localhost:8080/"
    },
    "id": "1f756867",
    "outputId": "563279c7-d4bf-48cf-e4e5-2d28c6bfa201"
   },
   "outputs": [
    {
     "name": "stdout",
     "output_type": "stream",
     "text": [
      "numero de linhas antes:  949962\n",
      "numero de linhas depois:  268228\n"
     ]
    }
   ],
   "source": [
    "# Retirando linhas cuja evolução caso é: nan, Cancelado ou Ignorado\n",
    "\n",
    "print(\"numero de linhas antes: \",  df_rec.shape[0])\n",
    "\n",
    "df_rec = df_rec.loc[df_rec['evolucaoCaso'].isin(['Cura', 'Internado', 'Internado em UTI', 'Em tratamento domiciliar', 'Óbito'])]\n",
    "\n",
    "print(\"numero de linhas depois: \",  df_rec.shape[0])"
   ]
  },
  {
   "cell_type": "markdown",
   "id": "97001d26",
   "metadata": {
    "id": "SzCvmmiEgRCr"
   },
   "source": [
    "---\n",
    "\n",
    "Haviam linhas em que o dado de evolução do caso estava faltando ou dizia 'Cancelado' ou 'Ignorado', esses dados são irrelevantes para nós, pois não dizem nada sobre a cura ou não do paciente, portanto retiramos esses dados. Porem, com isso quase 72% dos dados foram descartados, portanto constata-se que hove muita falta de informação aqui."
   ]
  },
  {
   "cell_type": "code",
   "execution_count": 13,
   "id": "da18046f",
   "metadata": {
    "colab": {
     "base_uri": "https://localhost:8080/",
     "height": 315
    },
    "id": "ErQ_oBPLmGrT",
    "outputId": "b2094820-99d3-4fdf-f646-6eb7a8f9f8cf"
   },
   "outputs": [
    {
     "data": {
      "image/png": "[encoded data removed]",
      "text/plain": [
       "<Figure size 432x288 with 1 Axes>"
      ]
     },
     "metadata": {
      "needs_background": "light"
     },
     "output_type": "display_data"
    }
   ],
   "source": [
    "# Calculando numero de curados e numero total de casos por faixa etaria\n",
    "curados = pd.cut(df_rec.loc[ df_rec['evolucaoCaso']=='Cura' ]['idade'], [0,20,60,110], right=False).value_counts(sort=False)\n",
    "todos = pd.cut(df_rec['idade'], [0,20,60,110], right=False).value_counts(sort=False)\n",
    "\n",
    "todos.plot.bar()\n",
    "plt.ylabel(\"Número de casos\")\n",
    "plt.xlabel(\"Faixa Etária\")\n",
    "plt.show()"
   ]
  },
  {
   "cell_type": "markdown",
   "id": "baaac205",
   "metadata": {
    "id": "KUsrH8RtqbPu"
   },
   "source": [
    "Dividindo as faixas etarias como:\n",
    "*   Jovem: 0-19 anos\n",
    "*   Adulto: 20-59 anos\n",
    "*   Idoso: 60-110 anos\n",
    "\n",
    "Assim, percebe-se que realmente a maior parte da população se enquadra na faixa etária adulta\n",
    "\n",
    "\n"
   ]
  },
  {
   "cell_type": "code",
   "execution_count": 14,
   "id": "09fb0456",
   "metadata": {
    "colab": {
     "base_uri": "https://localhost:8080/",
     "height": 388
    },
    "id": "m8ZfpMjhoauZ",
    "outputId": "e048ad81-cb34-4a0c-9ea8-c936e6c6edaa"
   },
   "outputs": [
    {
     "data": {
      "image/png": "[encoded data removed]",
      "text/plain": [
       "<Figure size 432x288 with 1 Axes>"
      ]
     },
     "metadata": {
      "needs_background": "light"
     },
     "output_type": "display_data"
    },
    {
     "data": {
      "text/plain": [
       "[0, 20)      99.848436\n",
       "[20, 60)     99.189193\n",
       "[60, 110)    80.266188\n",
       "Name: idade, dtype: float64"
      ]
     },
     "execution_count": 14,
     "metadata": {},
     "output_type": "execute_result"
    }
   ],
   "source": [
    "eixo = (curados*100/todos).plot.bar()\n",
    "eixo.yaxis.set_major_formatter(mtick.PercentFormatter())\n",
    "plt.ylabel(\"Porcentagem de Cura\")\n",
    "plt.xlabel(\"Faixa Etária\")\n",
    "\n",
    "plt.show()\n",
    "\n",
    "\n",
    "curados*100/todos"
   ]
  },
  {
   "cell_type": "markdown",
   "id": "aee1e2c0",
   "metadata": {
    "id": "moKtcaHzracZ"
   },
   "source": [
    "---\n",
    "Então, o gráfico anterior representa a porcentagem de curados de cada faixa etária. Com isso, percebe-se que inesperadamente os valores desse índice de cura é exageradamente alto, chegando a mais de 99% nos jovens e adultos, sendo assim, vemos que os dados podem estar mostrando uma estatística diferente da realidade, e uma justificativa para isso seja a falta de informação presente de alguns pacientes que não alega-se nada a respeito a evolução do caso, como foi dito antes.\n",
    "\n",
    "Porém, desconsiderando esses fatos, a analise final é que a taxa de cura dos idosos é a menor com quase 80% e conclui-se que a maior taxa de cura é a dos jovens chegando a 99,8%"
   ]
  },
  {
   "cell_type": "markdown",
   "id": "f2e4a276",
   "metadata": {
    "id": "VybagVEAM3ep"
   },
   "source": [
    "### Justificativa"
   ]
  },
  {
   "cell_type": "code",
   "execution_count": 15,
   "id": "38c76435",
   "metadata": {
    "colab": {
     "base_uri": "https://localhost:8080/",
     "height": 388
    },
    "id": "ReDCRJPWORwe",
    "outputId": "5dd7b0ad-c383-4f40-be4c-07dd78a5f2b9"
   },
   "outputs": [
    {
     "data": {
      "image/png": "[encoded data removed]",
      "text/plain": [
       "<Figure size 432x288 with 1 Axes>"
      ]
     },
     "metadata": {
      "needs_background": "light"
     },
     "output_type": "display_data"
    },
    {
     "name": "stdout",
     "output_type": "stream",
     "text": [
      "[0, 20)       3.049331\n",
      "[20, 60)     18.421282\n",
      "[60, 110)    50.564709\n",
      "Name: idade, dtype: float64\n"
     ]
    }
   ],
   "source": [
    "# Obtendo a taxa de pacientes com condicoes\n",
    "\n",
    "df_condicoes = df_rec.dropna(subset=['condicoes'])\n",
    "condicoes_c = pd.cut(df_condicoes['idade'], [0,20,60,110], right=False).value_counts(sort=False)\n",
    "\n",
    "eixo = (condicoes_c*100/todos).plot.bar()\n",
    "eixo.yaxis.set_major_formatter(mtick.PercentFormatter())\n",
    "plt.ylabel(\"Porcentagem de Pacientes com condições\")\n",
    "plt.xlabel(\"Faixa Etária\")\n",
    "\n",
    "plt.show()\n",
    "\n",
    "\n",
    "print(condicoes_c*100/todos)"
   ]
  },
  {
   "cell_type": "markdown",
   "id": "f34dbe6f",
   "metadata": {
    "id": "glHUHU2ZQVNi"
   },
   "source": [
    "---\n",
    "Agora buscamos justificar o porquê a faixa etária dos jovens é a com mais taxa de cura. Analisando os dados, percebe-se que uma coluna que pode ter relação com isso é a coluna das condições, a qual diz se o paciente tem alguma condição especial de saúde, como uma doença crônica por exemplo. Analisando esse dado montamos o gráfico acima, que confirma que os idosos tem muita mais chance de conter condições especiais, e também, justifica em partes a maior taxa de cura por parte dos jovens, pois nessa faixa etária apenas 3% dos pacientes tem alguma condição especial."
   ]
  },
  {
   "cell_type": "markdown",
   "id": "e52c3cdb",
   "metadata": {
    "id": "EBsGw8ZuaJid"
   },
   "source": [
    "## Análise inferencial"
   ]
  },
  {
   "cell_type": "markdown",
   "id": "3f581256",
   "metadata": {
    "id": "r30CUNy3ceG9"
   },
   "source": [
    "Uma hipótese que havemos de testar é se as taxas de curas são iguais para as diferentes faixas etárias, pois isso nos mostraria que os dados realmente são inconclusivos. Isso se deve ao fato de que se as taxas de cura forem iguais, não poderiamos afirmar qual faixa etária tem a maior taxa de cura.\n",
    "\n",
    "Para testar isso, usaremos o teste qui-quadrado para as proporções, pois dessa forma poderemos calcular a frequência esperada e comparar com as frequências obtidas anteriormente. Dessa forma, devemos usar as hipoteses H0 e Ha como sendo:\n",
    "\n",
    "*  H0: as proporções são iguais\n",
    "*  Ha: as proporções são diferentes\n",
    "\n",
    "Lembrando tambem que usaremos um alfa de 5%."
   ]
  },
  {
   "cell_type": "code",
   "execution_count": 18,
   "id": "7cef456b",
   "metadata": {
    "colab": {
     "base_uri": "https://localhost:8080/"
    },
    "id": "wFAjFE6igA4Q",
    "outputId": "6d50e8ca-d332-4f26-96cd-15f1fd5ed1f5"
   },
   "outputs": [
    {
     "name": "stdout",
     "output_type": "stream",
     "text": [
      "(771.1668123549935, 3.493448808346989e-168, 2, array([[ 27135.21964409,  28244.78035591],\n",
      "       [190670.73134456, 198467.26865544],\n",
      "       [ 39885.04901135,  41515.95098865]]))\n",
      "\n",
      "\n",
      "p-valor =  3.493448808346989e-168\n"
     ]
    }
   ],
   "source": [
    "import scipy.stats as stats\n",
    "\n",
    "# Teste qui-quadrado para comparar proporções de duas populações\n",
    "obs = np.column_stack([curados.to_list(), todos.to_list()])\n",
    "aux = stats.chi2_contingency(obs)\n",
    "\n",
    "print(aux)\n",
    "print(\"\\n\\np-valor = \",aux[1] )"
   ]
  },
  {
   "cell_type": "markdown",
   "id": "e056c7b4",
   "metadata": {
    "id": "HJeoq-fcdJ7B"
   },
   "source": [
    "---\n",
    "Então, apos realizar o teste qui-quadrado, obtemos um p-valor muito proximo de zero, sendo assim, aceitamos a hipotese Ha -> as proporções são diferentes. Então, apesar do que foi dito anteriormente que as proporções são muito parecidas, na verdade podemos sim afirmar que as taxas são distintas umas das outras e os dados realmente expressam que os jovens são mais suscetíveis a cura."
   ]
  },
  {
   "cell_type": "code",
   "execution_count": 19,
   "id": "f2731b89",
   "metadata": {
    "colab": {
     "base_uri": "https://localhost:8080/",
     "height": 279
    },
    "id": "Wx9T-8nIhF0R",
    "outputId": "a3c49c43-cade-440d-b05b-6319a30f9413"
   },
   "outputs": [
    {
     "data": {
      "image/png": "[encoded data removed]",
      "text/plain": [
       "<Figure size 432x288 with 1 Axes>"
      ]
     },
     "metadata": {
      "needs_background": "light"
     },
     "output_type": "display_data"
    }
   ],
   "source": [
    "# Exibindo o gráfico idade x porcentagens de condições\n",
    "\n",
    "pd.set_option('display.max_rows', None)\n",
    "\n",
    "df_condicoes = df_rec.dropna(subset=['condicoes'])\n",
    "condicoes_c = pd.cut(df_condicoes['idade'], np.arange(0,111), right=False).value_counts(sort=False)\n",
    "\n",
    "todos = pd.cut(df_rec['idade'], np.arange(0,111), right=False).value_counts(sort=False)\n",
    "\n",
    "plt.plot(np.arange(0,110), (condicoes_c/todos).to_list(), 'o')\n",
    "plt.xlabel(\"Idade\")\n",
    "plt.ylabel(\"Porcentagem de Pacientes com condições\")\n",
    "plt.show()"
   ]
  },
  {
   "cell_type": "markdown",
   "id": "2ec1b55b",
   "metadata": {
    "id": "v82MS2-Ik3Gw"
   },
   "source": [
    "Agora, testaremos se a idade esta relacionada com a taxa de condições especiais médicas dos pacientes, e para isso usaremos o teste do coeficiente de Pearson. O motivo de usar esse teste é porque ele nos auxilia a dizer se existe alguma correlação entre as duas variaveis, e como podemos ver no gráfico, parece que existe essa tendência, mas também existem muitos pontos fora de controle, por isso usaremos o teste de hipótese para conferir essas ideias."
   ]
  },
  {
   "cell_type": "code",
   "execution_count": 20,
   "id": "698c467c",
   "metadata": {
    "colab": {
     "base_uri": "https://localhost:8080/"
    },
    "id": "bxzHk9xZlH7F",
    "outputId": "ed178833-d60f-4bfd-cced-32be63b346c3"
   },
   "outputs": [
    {
     "name": "stdout",
     "output_type": "stream",
     "text": [
      "(0.8417713861117185, 2.0477426528579136e-30) \n",
      "\n",
      "p-valor =  2.0477426528579136e-30\n"
     ]
    }
   ],
   "source": [
    "aux = stats.pearsonr(np.arange(0,109), (condicoes_c/todos).to_list()[:109])\n",
    "\n",
    "print(aux, \"\\n\\np-valor = \", aux[1])"
   ]
  },
  {
   "cell_type": "markdown",
   "id": "a6b7ec21",
   "metadata": {
    "id": "_gY1uikgmYrU"
   },
   "source": [
    "---\n",
    "Realizando o teste, percebe-se que realmente existe essa correlação que estavamos esperando - já que o p-valor é muito proximo de zero, e esse valor indica o qual é a chance de termos duas variávies independetes - ou seja, conforme a idade cresce, a proporção de pacientes com condições especiais de saúde também aumenta. Sendo assim, confirmamos cada vez mais o raciocinio anterior de que os jovens tem a maior taxa de cura,pois nessa etapa conferimos que nossa justificativa é válida e que a nossa hipótese era correta.\n"
   ]
  },
  {
   "cell_type": "markdown",
   "id": "846e32fb",
   "metadata": {
    "id": "vgT-Z2xmnYgE"
   },
   "source": [
    "---\n",
    "### Conclusão"
   ]
  },
  {
   "cell_type": "markdown",
   "id": "c07c3172",
   "metadata": {
    "id": "VztKouWZscbH"
   },
   "source": [
    "Ao fim de nossos estudos descobrimos que a faixa etária que tem a maior taxa de cura são os jovens. No entanto, vimos que há muita falta de informação, já que perdemos muitos dados porque a coluna de evolução do caso tem muitas informações faltantes, chegando a cerca de 72% dos dados descartados.\n",
    "\n",
    "Mesmo assim, conforme o senso comum e os dados de diferentes outras doenças, tem-se que essa decisão faz sentido, e vimos também que a taxa de condições especiais de saúde que tornam o paciente mais \"frágil\" são maiores na faixa etária dos idosos. Então, realmente verifica-se a faixa etária jovem tem a maior taxa de recuperação do covid-19."
   ]
  }
 ],
 "metadata": {
  "colab": {
   "collapsed_sections": [
    "OBm-v8v1g5tS",
    "VybagVEAM3ep"
   ],
   "name": "questao1.ipynb",
   "provenance": []
  },
  "kernelspec": {
   "display_name": "Python 3 (ipykernel)",
   "language": "python",
   "name": "python3"
  },
  "language_info": {
   "codemirror_mode": {
    "name": "ipython",
    "version": 3
   },
   "file_extension": ".py",
   "mimetype": "text/x-python",
   "name": "python",
   "nbconvert_exporter": "python",
   "pygments_lexer": "ipython3",
   "version": "3.9.9"
  }
 },
 "nbformat": 4,
 "nbformat_minor": 5
}
