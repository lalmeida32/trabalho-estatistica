{
  "cells": [
    {
      "cell_type": "markdown",
      "source": [
        "###Inicializando coisas"
      ],
      "metadata": {
        "id": "OBm-v8v1g5tS"
      },
      "id": "OBm-v8v1g5tS"
    },
    {
      "cell_type": "code",
      "source": [
        "from google.colab import drive\n",
        "drive.mount('/content/drive')"
      ],
      "metadata": {
        "colab": {
          "base_uri": "https://localhost:8080/"
        },
        "id": "wxXunWDSWugN",
        "outputId": "6a9dc68b-0242-4c9b-87cc-e21a37fde5dc"
      },
      "id": "wxXunWDSWugN",
      "execution_count": null,
      "outputs": [
        {
          "output_type": "stream",
          "name": "stdout",
          "text": [
            "Drive already mounted at /content/drive; to attempt to forcibly remount, call drive.mount(\"/content/drive\", force_remount=True).\n"
          ]
        }
      ]
    },
    {
      "cell_type": "code",
      "execution_count": null,
      "id": "c1272b69",
      "metadata": {
        "id": "c1272b69"
      },
      "outputs": [],
      "source": [
        "import pandas as pd\n",
        "import matplotlib.pyplot as plt\n",
        "import numpy as np  \n",
        "import matplotlib.ticker as mtick"
      ]
    },
    {
      "cell_type": "code",
      "execution_count": null,
      "id": "7b73adfa",
      "metadata": {
        "id": "7b73adfa"
      },
      "outputs": [],
      "source": [
        "path = 'drive/MyDrive/Colab Notebooks/estatistica/dados-es.csv'\n",
        "\n",
        "df = pd.read_csv(path, delimiter=';', encoding='latin1')"
      ]
    },
    {
      "cell_type": "code",
      "execution_count": null,
      "id": "73b8949a",
      "metadata": {
        "id": "73b8949a"
      },
      "outputs": [],
      "source": [
        "# Ajustes na tabela\n",
        "df = df.drop(columns=[\"ÿid\"])"
      ]
    },
    {
      "cell_type": "markdown",
      "source": [
        "# Questão 16\n",
        "## Qual faixa etária teve mais casos “Cura” na evolução do caso? Quais as justificativas pra isso?\n",
        "\n",
        "Sabemos que existem grupos de riscos que são mais afetados pelas doenças e tem uma recuperação mais dificultada. Portanto, por meio dos dados, queremos mostrar se o indice de cura dentre as faixas etaria muda, e tambem descobrir qual é a faixa etaria em que a cura foi mais presente. Ou seja, será que poderemos afirmar que os jovens tem uma taxa de recuperação maior do que a dos idosos?\n",
        "\n",
        "\n",
        "\n"
      ],
      "metadata": {
        "id": "sMwcSZ1KZhGL"
      },
      "id": "sMwcSZ1KZhGL"
    },
    {
      "cell_type": "markdown",
      "source": [
        "###Idade"
      ],
      "metadata": {
        "id": "Dh7rT8y-bxRq"
      },
      "id": "Dh7rT8y-bxRq"
    },
    {
      "cell_type": "code",
      "execution_count": null,
      "id": "5c48e6d1",
      "metadata": {
        "colab": {
          "base_uri": "https://localhost:8080/"
        },
        "id": "5c48e6d1",
        "outputId": "596ca3a5-dcd7-4d2a-c838-5706c73b5a8b"
      },
      "outputs": [
        {
          "output_type": "stream",
          "name": "stdout",
          "text": [
            "numero de linhas antes:  949987\n",
            "numero de linhas depois:  949983\n"
          ]
        }
      ],
      "source": [
        "# Retirando as linhas cuja idade é null\n",
        "\n",
        "print(\"numero de linhas antes: \", df.shape[0])\n",
        "\n",
        "df = df.dropna(subset=['idade'])\n",
        "\n",
        "print(\"numero de linhas depois: \",  df.shape[0])"
      ]
    },
    {
      "cell_type": "code",
      "execution_count": null,
      "id": "b28c219d",
      "metadata": {
        "colab": {
          "base_uri": "https://localhost:8080/",
          "height": 392
        },
        "id": "b28c219d",
        "outputId": "8d7dcf9e-8a92-4354-ff43-9127a2f47a95"
      },
      "outputs": [
        {
          "output_type": "execute_result",
          "data": {
            "text/plain": [
              "<matplotlib.axes._subplots.AxesSubplot at 0x7f712f7e28d0>"
            ]
          },
          "metadata": {},
          "execution_count": 9
        },
        {
          "output_type": "display_data",
          "data": {
            "image/png": "[encoded data removed]",
            "text/plain": [
              "<Figure size 864x432 with 1 Axes>"
            ]
          },
          "metadata": {
            "needs_background": "light"
          }
        }
      ],
      "source": [
        "fig, myax = plt.subplots(figsize=(12, 6))\n",
        "myax.set_xlim([-5, 230])\n",
        "\n",
        "df.boxplot(column='idade', vert=False, figsize=(10,5), ax=myax)"
      ]
    },
    {
      "cell_type": "markdown",
      "source": [
        "Como podemos ver, a maioria dos casos tem idade entre 25 e 50 anos, porém, tambem vemos que existem idades exorbitantes como 250 anos. Esses são *outliers*, e devemos remove-los. Aqui vamos considerar idades maiores que 110 *outliers*:"
      ],
      "metadata": {
        "id": "MSAyo95_eLkE"
      },
      "id": "MSAyo95_eLkE"
    },
    {
      "cell_type": "code",
      "execution_count": null,
      "id": "d5c8f81c",
      "metadata": {
        "colab": {
          "base_uri": "https://localhost:8080/"
        },
        "id": "d5c8f81c",
        "outputId": "62e8b56d-fe7a-40db-af15-be7d90b8ea00"
      },
      "outputs": [
        {
          "output_type": "stream",
          "name": "stdout",
          "text": [
            "numero de linhas antes:  949983\n",
            "numero de linhas depois:  949962\n"
          ]
        }
      ],
      "source": [
        "# Retirando linhas cuja idade é maior do que 110\n",
        "\n",
        "print(\"numero de linhas antes: \", df.shape[0])\n",
        "\n",
        "df_rec = df[df['idade']<110]\n",
        "\n",
        "print(\"numero de linhas depois: \",  df_rec.shape[0])"
      ]
    },
    {
      "cell_type": "markdown",
      "source": [
        "Com isso finalizamos o tratamento da idade, pois agora todos os dados da idade fazem sentido e tambem nao reduzimos drasticamente o tamanho do nosso dataframe, já que continua na cas do 949 mil linhas.\n",
        "\n",
        "###Evolução caso\n",
        "Agora, iremos nos preocupar em analisar a coluna evoluçãoCaso, porque é nela que contem a informação sobre a cura do paciente."
      ],
      "metadata": {
        "id": "2YlNfniJfDrM"
      },
      "id": "2YlNfniJfDrM"
    },
    {
      "cell_type": "code",
      "execution_count": null,
      "id": "2e75bb48",
      "metadata": {
        "colab": {
          "base_uri": "https://localhost:8080/"
        },
        "id": "2e75bb48",
        "outputId": "17b1b127-a286-482d-d9c6-ea9c6f243cba"
      },
      "outputs": [
        {
          "output_type": "execute_result",
          "data": {
            "text/plain": [
              "array([nan, 'Cura', 'Em tratamento domiciliar', 'Cancelado', 'Ignorado',\n",
              "       'Internado em UTI', 'Óbito', 'Internado'], dtype=object)"
            ]
          },
          "metadata": {},
          "execution_count": 11
        }
      ],
      "source": [
        "df['evolucaoCaso'].unique()"
      ]
    },
    {
      "cell_type": "code",
      "execution_count": null,
      "id": "c6077973",
      "metadata": {
        "id": "c6077973"
      },
      "outputs": [],
      "source": [
        "df_rec = df_rec[['idade', 'evolucaoCaso', 'condicoes']]"
      ]
    },
    {
      "cell_type": "code",
      "execution_count": null,
      "id": "1f756867",
      "metadata": {
        "colab": {
          "base_uri": "https://localhost:8080/"
        },
        "id": "1f756867",
        "outputId": "563279c7-d4bf-48cf-e4e5-2d28c6bfa201"
      },
      "outputs": [
        {
          "output_type": "stream",
          "name": "stdout",
          "text": [
            "numero de linhas antes:  949962\n",
            "numero de linhas depois:  268228\n"
          ]
        }
      ],
      "source": [
        "# Retirando linhas cuja evolução caso é: nan, Cancelado ou Ignorado\n",
        "\n",
        "print(\"numero de linhas antes: \",  df_rec.shape[0])\n",
        "\n",
        "df_rec = df_rec.loc[df_rec['evolucaoCaso'].isin(['Cura', 'Internado', 'Internado em UTI', 'Em tratamento domiciliar', 'Óbito'])]\n",
        "\n",
        "print(\"numero de linhas depois: \",  df_rec.shape[0])"
      ]
    },
    {
      "cell_type": "markdown",
      "source": [
        "Haviam linhas em que o dado de evolução do caso estava faltando ou dizia 'Cancelado' ou 'Ignorado', esses dados são irrelevantes para nós, pois não dizem nada sobre a cura ou não do paciente, portanto retiramos esses dados. Porem, com isso quase 72% dos dados foram descartados, portanto constata-se que hove muita falta de informação aqui.\n"
      ],
      "metadata": {
        "id": "SzCvmmiEgRCr"
      },
      "id": "SzCvmmiEgRCr"
    },
    {
      "cell_type": "code",
      "source": [
        "# Calculando numero de curados e numero total de casos por faixa etaria\n",
        "curados = pd.cut(df_rec.loc[ df_rec['evolucaoCaso']=='Cura' ]['idade'], [0,20,60,110], right=False).value_counts(sort=False)\n",
        "todos = pd.cut(df_rec['idade'], [0,20,60,110], right=False).value_counts(sort=False)\n",
        "\n",
        "todos.plot.bar()\n",
        "plt.ylabel(\"Número de casos\")\n",
        "plt.xlabel(\"Faixa Etária\")\n",
        "plt.show()"
      ],
      "metadata": {
        "colab": {
          "base_uri": "https://localhost:8080/",
          "height": 315
        },
        "id": "ErQ_oBPLmGrT",
        "outputId": "b2094820-99d3-4fdf-f646-6eb7a8f9f8cf"
      },
      "id": "ErQ_oBPLmGrT",
      "execution_count": null,
      "outputs": [
        {
          "output_type": "display_data",
          "data": {
            "image/png": "[encoded data removed]",
            "text/plain": [
              "<Figure size 432x288 with 1 Axes>"
            ]
          },
          "metadata": {
            "needs_background": "light"
          }
        }
      ]
    },
    {
      "cell_type": "markdown",
      "source": [
        "Dividindo as faixas etarias como:\n",
        "*   Jovem: 0-19 anos\n",
        "*   Adulto: 20-59 anos\n",
        "*   Idoso: 60-110 anos\n",
        "\n",
        "Assim, percebe-se que realmente a maior parte da população se enquadra na faixa etaria adulta\n",
        "\n",
        "\n"
      ],
      "metadata": {
        "id": "KUsrH8RtqbPu"
      },
      "id": "KUsrH8RtqbPu"
    },
    {
      "cell_type": "code",
      "source": [
        "eixo = (curados*100/todos).plot.bar()\n",
        "eixo.yaxis.set_major_formatter(mtick.PercentFormatter())\n",
        "plt.ylabel(\"Porcentagem de Cura\")\n",
        "plt.xlabel(\"Faixa Etária\")\n",
        "\n",
        "plt.show()\n",
        "\n",
        "\n",
        "curados*100/todos"
      ],
      "metadata": {
        "colab": {
          "base_uri": "https://localhost:8080/",
          "height": 388
        },
        "id": "m8ZfpMjhoauZ",
        "outputId": "e048ad81-cb34-4a0c-9ea8-c936e6c6edaa"
      },
      "id": "m8ZfpMjhoauZ",
      "execution_count": null,
      "outputs": [
        {
          "output_type": "display_data",
          "data": {
            "image/png": "[encoded data removed]",
            "text/plain": [
              "<Figure size 432x288 with 1 Axes>"
            ]
          },
          "metadata": {
            "needs_background": "light"
          }
        },
        {
          "output_type": "execute_result",
          "data": {
            "text/plain": [
              "[0, 20)      99.848436\n",
              "[20, 60)     99.189193\n",
              "[60, 110)    80.266188\n",
              "Name: idade, dtype: float64"
            ]
          },
          "metadata": {},
          "execution_count": 15
        }
      ]
    },
    {
      "cell_type": "markdown",
      "source": [
        "Entao, o grafico anterior representa a porcentagem de curados de cada faixa etaria. Com isso, percebe-se que inesperadamente os valores desse indice de cura é exageradamente alto, chegando a mais de 99% nos jovens e adultos, sendo assim, vemos que os dados podem estar mostrando uma estatistica diferente da realidade, e uma justificativa para isso seja a falta de informação presente de alguns pacientes que não alega-se nada a respeito a evolução do caso, como foi dito antes.\n",
        "\n",
        "Porem, desconsiderando esses fatos, a analise final é que a taxa de cura dos idosos é a menor com quase 80% e conclui-se que a maior taxa de cura é a dos jovens chegando a 99,8%"
      ],
      "metadata": {
        "id": "moKtcaHzracZ"
      },
      "id": "moKtcaHzracZ"
    },
    {
      "cell_type": "code",
      "execution_count": null,
      "id": "20f3678d",
      "metadata": {
        "colab": {
          "base_uri": "https://localhost:8080/",
          "height": 145
        },
        "id": "20f3678d",
        "outputId": "3b6e9087-4c38-49d6-d0bc-351b60d2ee2a"
      },
      "outputs": [
        {
          "output_type": "execute_result",
          "data": {
            "application/vnd.google.colaboratory.intrinsic+json": {
              "type": "string"
            },
            "text/plain": [
              "'\\ncontagem_evolucaoCaso = df_rec.groupby(pandas.cut(df_rec[\\'idade\\'], [0, 20, 60, 110], right=False, include_lowest=True))[\\'evolucaoCaso\\'].value_counts()\\n\\nprint(contagem_evolucaoCaso.to_frame())\\n# aux  = df_rec.groupby(df_rec[\\'idade\\']).count()\\n\\n\\n# aux.to_frame()\\n\\ndf_propCurados = pandas.DataFrame(columns=[\\'idade\\', \\'totalCasos\\', \\'totalCurados\\', \\'propCurados\\'])\\n\\ndicio_dataCurados = { }\\n\\n\\n# \\'Traduzir\\' contagem_evolucaoCaso para um dicionario\\n# Criando dicionario para guardar totalCasos e totalCurados com base no intervalo da idade \\nfor index in range(0, len(contagem_evolucaoCaso.keys())):\\n    idade = str (contagem_evolucaoCaso.keys()[index][0])\\n    \\n    if idade not in dicio_dataCurados:\\n        dicio_dataCurados[idade] = {\\'totalCasos\\' : 0, \\'totalCurados\\' : 0}\\n        \\n    dicio_dataCurados[idade][\\'totalCasos\\'] += contagem_evolucaoCaso[index] \\n    \\n    if contagem_evolucaoCaso.keys()[index][1] == \\'Cura\\':\\n        dicio_dataCurados[idade][\\'totalCurados\\'] += contagem_evolucaoCaso[index]\\n\\n\\nfor idade in dicio_dataCurados.keys():\\n    dicio_dataCurados[idade][\\'idade\\'] = idade\\n    dicio_dataCurados[idade][\\'propCurados\\'] = dicio_dataCurados[idade][\\'totalCurados\\'] / dicio_dataCurados[idade][\\'totalCasos\\']\\n    df_propCurados = df_propCurados.append(dicio_dataCurados[idade], ignore_index=True)\\n    \\n    #print(dicio_dataCurados[idade])\\n    \\n    \\n#df_propCurados.to_csv(\\'teste.csv\\')\\npandas.set_option(\"max_rows\", None)\\ndisplay(df_propCurados)\\n        \\n#print(dicio_dataCurados)\\n\\n# df_rec.groupby([\\'idade\\']).value_counts()\\n'"
            ]
          },
          "metadata": {},
          "execution_count": 16
        }
      ],
      "source": [
        "'''\n",
        "contagem_evolucaoCaso = df_rec.groupby(pandas.cut(df_rec['idade'], [0, 20, 60, 110], right=False, include_lowest=True))['evolucaoCaso'].value_counts()\n",
        "\n",
        "print(contagem_evolucaoCaso.to_frame())\n",
        "# aux  = df_rec.groupby(df_rec['idade']).count()\n",
        "\n",
        "\n",
        "# aux.to_frame()\n",
        "\n",
        "df_propCurados = pandas.DataFrame(columns=['idade', 'totalCasos', 'totalCurados', 'propCurados'])\n",
        "\n",
        "dicio_dataCurados = { }\n",
        "\n",
        "\n",
        "# 'Traduzir' contagem_evolucaoCaso para um dicionario\n",
        "# Criando dicionario para guardar totalCasos e totalCurados com base no intervalo da idade \n",
        "for index in range(0, len(contagem_evolucaoCaso.keys())):\n",
        "    idade = str (contagem_evolucaoCaso.keys()[index][0])\n",
        "    \n",
        "    if idade not in dicio_dataCurados:\n",
        "        dicio_dataCurados[idade] = {'totalCasos' : 0, 'totalCurados' : 0}\n",
        "        \n",
        "    dicio_dataCurados[idade]['totalCasos'] += contagem_evolucaoCaso[index] \n",
        "    \n",
        "    if contagem_evolucaoCaso.keys()[index][1] == 'Cura':\n",
        "        dicio_dataCurados[idade]['totalCurados'] += contagem_evolucaoCaso[index]\n",
        "\n",
        "\n",
        "for idade in dicio_dataCurados.keys():\n",
        "    dicio_dataCurados[idade]['idade'] = idade\n",
        "    dicio_dataCurados[idade]['propCurados'] = dicio_dataCurados[idade]['totalCurados'] / dicio_dataCurados[idade]['totalCasos']\n",
        "    df_propCurados = df_propCurados.append(dicio_dataCurados[idade], ignore_index=True)\n",
        "    \n",
        "    #print(dicio_dataCurados[idade])\n",
        "    \n",
        "    \n",
        "#df_propCurados.to_csv('teste.csv')\n",
        "pandas.set_option(\"max_rows\", None)\n",
        "display(df_propCurados)\n",
        "        \n",
        "#print(dicio_dataCurados)\n",
        "\n",
        "# df_rec.groupby(['idade']).value_counts()\n",
        "'''"
      ]
    },
    {
      "cell_type": "markdown",
      "source": [
        "###Justificativa"
      ],
      "metadata": {
        "id": "VybagVEAM3ep"
      },
      "id": "VybagVEAM3ep"
    },
    {
      "cell_type": "code",
      "source": [
        "# Obtendo a taxa de pacientes com condicoes\n",
        "\n",
        "df_condicoes = df_rec.dropna(subset=['condicoes'])\n",
        "condicoes_c = pd.cut(df_condicoes['idade'], [0,20,60,110], right=False).value_counts(sort=False)\n",
        "\n",
        "eixo = (condicoes_c*100/todos).plot.bar()\n",
        "eixo.yaxis.set_major_formatter(mtick.PercentFormatter())\n",
        "plt.ylabel(\"Porcentagem de Pacientes com condições\")\n",
        "plt.xlabel(\"Faixa Etária\")\n",
        "\n",
        "plt.show()\n",
        "\n",
        "\n",
        "print(condicoes_c*100/todos)"
      ],
      "metadata": {
        "colab": {
          "base_uri": "https://localhost:8080/",
          "height": 388
        },
        "id": "ReDCRJPWORwe",
        "outputId": "5dd7b0ad-c383-4f40-be4c-07dd78a5f2b9"
      },
      "id": "ReDCRJPWORwe",
      "execution_count": null,
      "outputs": [
        {
          "output_type": "display_data",
          "data": {
            "image/png": "[encoded data removed]",
            "text/plain": [
              "<Figure size 432x288 with 1 Axes>"
            ]
          },
          "metadata": {
            "needs_background": "light"
          }
        },
        {
          "output_type": "stream",
          "name": "stdout",
          "text": [
            "[0, 20)       3.049331\n",
            "[20, 60)     18.421282\n",
            "[60, 110)    50.564709\n",
            "Name: idade, dtype: float64\n"
          ]
        }
      ]
    },
    {
      "cell_type": "markdown",
      "source": [
        "Agora buscamos justificar o porquê a faixa etaria dos jovens é a com mais taxa de cura. Analisando os dados, percebe-se que uma coluna que pode ter relação com isso é a coluna das condições, a qual diz se o paciente tem alguma condição especial de saude, como uma doença cronica por exemplo. Analisando esse dado montamos o grafico acima, que confirma que os idosos tem muita mais chance de conter condições especiais, e tambem, justifica em partes a maior taxa de cura por parte dos jovens, pois nessa faixa etaria apenas 3% dos pacientes tem alguma condição especial."
      ],
      "metadata": {
        "id": "glHUHU2ZQVNi"
      },
      "id": "glHUHU2ZQVNi"
    },
    {
      "cell_type": "markdown",
      "source": [
        "###Teste inferencial"
      ],
      "metadata": {
        "id": "EBsGw8ZuaJid"
      },
      "id": "EBsGw8ZuaJid"
    },
    {
      "cell_type": "markdown",
      "source": [
        "Uma hipotese que havemos de testar é se as taxas de curas são iguais para as diferentes faixas etarias, pois isso nos mostraria que os dados realmente são inconclusivos. Isso se deve ao fato de que se as taxas de cura forem iguais, não poderiamos afirmar qual faixa etaria tem a maior taxa de cura.\n",
        "\n",
        "Para testar isso, usaremos o teste qui-quadrado para as proporções, pois dessa forma poderemos calcular a frequencia esperada e comparar com as frequencias obtidas anteriormente. Dessa forma, devemos usar as hipoteses H0 e Ha como sendo:\n",
        "\n",
        "*  H0: as proporções são iguais\n",
        "*  Ha: as proporções são diferentes\n",
        "\n",
        "Lembrando tambem que usaremos um alfa de 5%."
      ],
      "metadata": {
        "id": "r30CUNy3ceG9"
      },
      "id": "r30CUNy3ceG9"
    },
    {
      "cell_type": "code",
      "source": [
        "!pip install scipy"
      ],
      "metadata": {
        "colab": {
          "base_uri": "https://localhost:8080/"
        },
        "id": "3xbLaSWPi0Zw",
        "outputId": "6aa4f8e2-275d-4f26-9d6e-90bb1f6a7269"
      },
      "id": "3xbLaSWPi0Zw",
      "execution_count": null,
      "outputs": [
        {
          "output_type": "stream",
          "name": "stdout",
          "text": [
            "Requirement already satisfied: scipy in /usr/local/lib/python3.7/dist-packages (1.4.1)\n",
            "Requirement already satisfied: numpy>=1.13.3 in /usr/local/lib/python3.7/dist-packages (from scipy) (1.19.5)\n"
          ]
        }
      ]
    },
    {
      "cell_type": "code",
      "source": [
        "import scipy\n",
        "import scipy.stats as stats\n",
        "\n",
        "\n",
        "# Calculando valores esperados\n",
        "esperado = (todos*sum(curados)/sum(todos)).to_list()\n",
        "# Teste qui-quadrado para comparar proporções de duas populações\n",
        "aux = stats.chisquare( curados.to_list(), f_exp=esperado  )\n",
        "\n",
        "\n",
        "# obs = np.column_stack([curados.to_list(), todos.to_list()])\n",
        "# aux = stats.chi2_contingency(obs)\n",
        "\n",
        "print(aux)\n",
        "print(\"\\n\\np-valor = \",aux[1] )\n"
      ],
      "metadata": {
        "colab": {
          "base_uri": "https://localhost:8080/"
        },
        "id": "wFAjFE6igA4Q",
        "outputId": "6d50e8ca-d332-4f26-96cd-15f1fd5ed1f5"
      },
      "id": "wFAjFE6igA4Q",
      "execution_count": null,
      "outputs": [
        {
          "output_type": "stream",
          "name": "stdout",
          "text": [
            "Power_divergenceResult(statistic=1412.9603582819732, pvalue=1.5120168293009308e-307)\n",
            "\n",
            "\n",
            "p-valor =  1.5120168293009308e-307\n"
          ]
        }
      ]
    },
    {
      "cell_type": "markdown",
      "source": [
        "Então, apos realizar o teste qui-quadrado, obtemos um p-valor muito proximo de zero, sendo assim, aceitamos a hipotese H0 -> as proporções são iguais. Dessa forma, confirmamos que as analises de qual é a faixa etaria com maior indice de cura podem estar invalidas."
      ],
      "metadata": {
        "id": "HJeoq-fcdJ7B"
      },
      "id": "HJeoq-fcdJ7B"
    },
    {
      "cell_type": "code",
      "source": [
        "pd.set_option('display.max_rows', None)\n",
        "\n",
        "df_condicoes = df_rec.dropna(subset=['condicoes'])\n",
        "condicoes_c = pd.cut(df_condicoes['idade'], np.arange(0,111), right=False).value_counts(sort=False)\n",
        "\n",
        "todos = pd.cut(df_rec['idade'], np.arange(0,111), right=False).value_counts(sort=False)\n",
        "\n",
        "# print(condicoes_c/todos)\n",
        "\n",
        "plt.plot(np.arange(0,110), (condicoes_c/todos).to_list(), 'o')\n",
        "plt.xlabel(\"Idade\")\n",
        "plt.ylabel(\"Porcentagem de Pacientes com condições\")\n",
        "plt.show()"
      ],
      "metadata": {
        "colab": {
          "base_uri": "https://localhost:8080/",
          "height": 279
        },
        "id": "Wx9T-8nIhF0R",
        "outputId": "a3c49c43-cade-440d-b05b-6319a30f9413"
      },
      "id": "Wx9T-8nIhF0R",
      "execution_count": null,
      "outputs": [
        {
          "output_type": "display_data",
          "data": {
            "image/png": "[encoded data removed]",
            "text/plain": [
              "<Figure size 432x288 with 1 Axes>"
            ]
          },
          "metadata": {
            "needs_background": "light"
          }
        }
      ]
    },
    {
      "cell_type": "markdown",
      "source": [
        "Agora, testaremos se a idade esta relacionada com a taxa de condições especiais medicas dos pacientes, e para isso usaremos o teste do coeficiente de Pearson. O motivo de usar esse teste é porque ele nos auxilia a dizer se existe alguma correlação entre as duas variaveis, e como podemos ver no grafico, parece que existe essa tendencia, mas tambem existem muitos pontos fora de controle, por isso usaremos o teste de hipotese."
      ],
      "metadata": {
        "id": "v82MS2-Ik3Gw"
      },
      "id": "v82MS2-Ik3Gw"
    },
    {
      "cell_type": "code",
      "source": [
        "aux = stats.pearsonr(np.arange(0,109), (condicoes_c/todos).to_list()[:109])\n",
        "\n",
        "print(aux, \"\\n\\np-valor = \", aux[1])"
      ],
      "metadata": {
        "colab": {
          "base_uri": "https://localhost:8080/"
        },
        "id": "bxzHk9xZlH7F",
        "outputId": "ed178833-d60f-4bfd-cced-32be63b346c3"
      },
      "id": "bxzHk9xZlH7F",
      "execution_count": null,
      "outputs": [
        {
          "output_type": "stream",
          "name": "stdout",
          "text": [
            "(0.8417713861117185, 2.0477426528579136e-30) \n",
            "\n",
            "p-valor =  2.0477426528579136e-30\n"
          ]
        }
      ]
    },
    {
      "cell_type": "markdown",
      "source": [
        "Realizando o teste, percebe-se que realmente existe essa correlação que estavamos esperando, ou seja, conforme a idade cresce, a proporção de pacientes com condições especiais de saude tambem aumenta. Isso tambem, comprova que a nossa analise inicial sobre o indice de curados é invalida."
      ],
      "metadata": {
        "id": "_gY1uikgmYrU"
      },
      "id": "_gY1uikgmYrU"
    },
    {
      "cell_type": "markdown",
      "source": [
        "###Conclusão"
      ],
      "metadata": {
        "id": "vgT-Z2xmnYgE"
      },
      "id": "vgT-Z2xmnYgE"
    },
    {
      "cell_type": "markdown",
      "source": [
        "Ao fim de nossos estudos descobrimos que apesar de os dados mostrarem que a faixa etaria jovem é a com mais taxa de cura, essa estatistica pode estar errada. Porem, conforme o senso comum e os dados de diferentes outras doenças essa decisão faz sentido, no entanto, aqui vemos que as taxas de cura são estatisticamente iguais, fazendo com que não possamos afirmar nada sobre essa questão. Por outro lado, vimos tambem que a taxa de condições especiais de saude que tornam o paciente mais \"fragil\" são maiores na faixa etaria dos idosos. Entao, esse fato comprova que o raciocinio de que possivelmente os jovens realmente são menos afetados pela covid, porem ressalta-se que os dados não comprovam esse indice."
      ],
      "metadata": {
        "id": "VztKouWZscbH"
      },
      "id": "VztKouWZscbH"
    }
  ],
  "metadata": {
    "kernelspec": {
      "display_name": "Python 3 (ipykernel)",
      "language": "python",
      "name": "python3"
    },
    "language_info": {
      "codemirror_mode": {
        "name": "ipython",
        "version": 3
      },
      "file_extension": ".py",
      "mimetype": "text/x-python",
      "name": "python",
      "nbconvert_exporter": "python",
      "pygments_lexer": "ipython3",
      "version": "3.8.5"
    },
    "colab": {
      "name": "questao1.ipynb",
      "provenance": [],
      "collapsed_sections": [
        "OBm-v8v1g5tS",
        "VybagVEAM3ep"
      ]
    }
  },
  "nbformat": 4,
  "nbformat_minor": 5
}