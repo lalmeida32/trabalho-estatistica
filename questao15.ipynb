{
 "cells": [
  {
   "cell_type": "markdown",
   "id": "7b853bdb",
   "metadata": {},
   "source": [
    "# 15. Homens e mulheres são igualmente suscetíveis a se curarem do vírus da COVID-19?"
   ]
  },
  {
   "cell_type": "markdown",
   "id": "672fa44f",
   "metadata": {},
   "source": [
    "## Inicialização"
   ]
  },
  {
   "cell_type": "code",
   "execution_count": 39,
   "id": "45105beb",
   "metadata": {},
   "outputs": [],
   "source": [
    "import pandas\n",
    "import matplotlib.pyplot as plt\n",
    "import numpy as np"
   ]
  },
  {
   "cell_type": "code",
   "execution_count": 40,
   "id": "28c95f1f",
   "metadata": {},
   "outputs": [],
   "source": [
    "df = pandas.read_csv('dados-es.csv', delimiter=';', encoding='latin1')\n",
    "df = df[df['resultadoTeste']=='Positivo']"
   ]
  },
  {
   "cell_type": "code",
   "execution_count": 41,
   "id": "4d6e8f4b",
   "metadata": {},
   "outputs": [
    {
     "name": "stdout",
     "output_type": "stream",
     "text": [
      "Tamanho antes:  214213\n",
      "Tamanho depois:  171877\n",
      "Perda:  0.19763506416510668\n"
     ]
    }
   ],
   "source": [
    "\n",
    "print(\"Tamanho antes: \", df.shape[0])\n",
    "\n",
    "df_ = df.loc[df['evolucaoCaso'].isin(['Cura', 'Óbito'])]\n",
    "\n",
    "print(\"Tamanho depois: \",df_.shape[0])\n",
    "\n",
    "print(\"Perda: \", 1 - (df_.shape[0]/df.shape[0]))"
   ]
  },
  {
   "cell_type": "markdown",
   "id": "672f7492",
   "metadata": {},
   "source": [
    "---\n",
    "Como iremos comparar a susceptibilidade à cura, retiramos os dados que não concluem se o paciente se curou ou se faleceu, pois dessa forma, podemos comparar com mais precisão as taxas de cura. Sendo assim, com essa limpeza nos dados infelizmente perdemos aproximadamente 20% das amostras, mas isso não é uma perda tão significativa, logo continuemos nossas análises."
   ]
  },
  {
   "cell_type": "code",
   "execution_count": 42,
   "id": "81354d64",
   "metadata": {},
   "outputs": [
    {
     "name": "stdout",
     "output_type": "stream",
     "text": [
      "homens 170168\n",
      "mulheres 1680\n",
      "indefinidos 1\n",
      "nan 28\n"
     ]
    }
   ],
   "source": [
    "df = df_\n",
    "\n",
    "# Obtendo os dados separados por sexo\n",
    "df_fem_all = df[df['sexo']=='Feminino']\n",
    "df_masc_all = df[df['sexo']=='Masculino']\n",
    "df_indef_all = df[df['sexo']=='Indefinido']\n",
    "df_nan_all = df[df['sexo'].isnull()==True]\n",
    "print('homens', len(df_masc_all))\n",
    "print('mulheres', len(df_fem_all))\n",
    "print('indefinidos', len(df_indef_all))\n",
    "print('nan', len(df_nan_all))"
   ]
  },
  {
   "cell_type": "markdown",
   "id": "19475d8a",
   "metadata": {},
   "source": [
    "---\n",
    "Aqui percebe-se que os pacientes do sexo feminino não são muito representativos, em outras palavras, tem pouquissimas mulheres no conjunto de dados, contabilizando apenas 0.9% da amostra. Portanto, ve-se que os nossos testes ficam prejudicados com isso, pois a amostra não representa bem a população."
   ]
  },
  {
   "cell_type": "code",
   "execution_count": 43,
   "id": "b9e9d16c",
   "metadata": {},
   "outputs": [],
   "source": [
    "# Contabilizando apenas os curados em um dataframe\n",
    "df_masc_rec = df_masc_all[df_masc_all['evolucaoCaso']=='Cura']\n",
    "df_fem_rec = df_fem_all[df_fem_all['evolucaoCaso']=='Cura']"
   ]
  },
  {
   "cell_type": "markdown",
   "id": "68e4229e",
   "metadata": {},
   "source": [
    "---\n",
    "## Analise descritiva"
   ]
  },
  {
   "cell_type": "code",
   "execution_count": 45,
   "id": "3c4a3826",
   "metadata": {},
   "outputs": [
    {
     "name": "stdout",
     "output_type": "stream",
     "text": [
      "94.9203140425932 %\n"
     ]
    }
   ],
   "source": [
    "# Porcentagem de cura entre homens\n",
    "print(100 * len(df_masc_rec)/len(df_masc_all), '%')"
   ]
  },
  {
   "cell_type": "code",
   "execution_count": 51,
   "id": "40d6c65e",
   "metadata": {},
   "outputs": [
    {
     "name": "stdout",
     "output_type": "stream",
     "text": [
      "95.23809523809524 %\n"
     ]
    }
   ],
   "source": [
    "# Porcentagem de cura entre mulheres\n",
    "print(100*len(df_fem_rec)/len(df_fem_all), '%')"
   ]
  },
  {
   "cell_type": "code",
   "execution_count": 47,
   "id": "b478ac89",
   "metadata": {
    "scrolled": false
   },
   "outputs": [
    {
     "data": {
      "image/png": "[encoded data removed]",
      "text/plain": [
       "<Figure size 720x720 with 1 Axes>"
      ]
     },
     "metadata": {
      "needs_background": "light"
     },
     "output_type": "display_data"
    }
   ],
   "source": [
    "# plot do grafico das taxas de cura\n",
    "\n",
    "fig, ax = plt.subplots()\n",
    "\n",
    "fig.set_figwidth(10)\n",
    "fig.set_figheight(10)\n",
    "\n",
    "x = 1\n",
    "width = 5\n",
    "\n",
    "ax.bar(x, [100*len(df_fem_rec)/len(df_fem_all)], width, label='Mulheres')\n",
    "ax.bar(x+width+1, [100*len(df_masc_rec)/len(df_masc_all)], width, label='Homens')\n",
    "\n",
    "#ax.set_xticks(x, , )\n",
    "ax.set_ylabel('Pessoas (%)')\n",
    "ax.set_title('Comparação de Sintomas Recuperados por Sexo')\n",
    "\n",
    "ax.legend()\n",
    "\n",
    "for i,data in enumerate([100*len(df_fem_rec)/len(df_fem_all), 100*len(df_masc_rec)/len(df_masc_all)]):\n",
    "    plt.text(x=i*(width+1 ), y =data+1 , s=\"{:.2f}%\".format(data) , fontdict=dict(fontsize=20))\n",
    "\n",
    "plt.show()"
   ]
  },
  {
   "cell_type": "markdown",
   "id": "d03f8ad4",
   "metadata": {},
   "source": [
    "---\n",
    "## Análise inferencial\n",
    "\n",
    "A partir das analises anteriores percebe-se que as taxas de cura dentre os sexos são bem parecidas, então, para tentar comprovar isso usaremos um teste de hipótese para proporções entre duas populações. Dessas forma, será usado o teste Z, que é um teste que  usa o SVD para aproximar a distribuição das proporções para uma normal, e vale lembrar que como as amostras são significativamente grandes essa aproximação se torna eficaz. Sendo assim, consideremos:\n",
    "-   H0-> as proporções são **iguais**\n",
    "-   Ha -> as proporções são **diferentes**\n",
    "-   nível de significância -> 5%"
   ]
  },
  {
   "cell_type": "code",
   "execution_count": 50,
   "id": "35f6e14d",
   "metadata": {},
   "outputs": [
    {
     "name": "stdout",
     "output_type": "stream",
     "text": [
      "(-0.5904420291921159, 0.5548943401170805)\n",
      "\n",
      "p-valor =  0.5548943401170805\n"
     ]
    }
   ],
   "source": [
    "from scipy.stats import chi2_contingency\n",
    "from statsmodels.stats.weightstats import ztest\n",
    "from statsmodels.stats.proportion import proportions_ztest\n",
    "\n",
    "aux = proportions_ztest([len(df_masc_rec), len(df_fem_rec)], [len(df_masc_all), len(df_fem_all)])\n",
    "\n",
    "print(aux)\n",
    "print(\"\\np-valor = \", aux[1])"
   ]
  },
  {
   "cell_type": "markdown",
   "id": "dd9acb09",
   "metadata": {},
   "source": [
    "---\n",
    "Então, obtemos um p-valor de 0.55 que é maior do que o valor significativo (0.05), portanto decidimos pela hipótese H0 - as proporções são **iguais**. "
   ]
  },
  {
   "cell_type": "markdown",
   "id": "7447b1c3",
   "metadata": {},
   "source": [
    "## Conclusão\n",
    "\n",
    "Existem algumas condições que afetam a recuperação do paciente com covid-19, como a portação de doenças crônicas. Mas aqui buscou-se analisar se o sexo também influência na taxa de cura dos pacientes.\n",
    "\n",
    "Inicialmente percebemos que a amostra dos dados não é um bom reflexo da população, e isso pode prejudicar nossas análises. O motivo disso é que a quantidade de mulheres está muito baixa nesse conjunto de dados, chegando a apenas 0.9% da amostra, o que é um valor absurdo, pois de acordo com o IBGE as mulheres são aproximadamente 50.7% da população do país. \n",
    "\n",
    "Mesmo assim, seguimos nossa análise, porque o que vamos comparamos em si foi a proporção de cura, então essa falta de dados não afetou muito esse parâmetro. Em seguida, vimos que a taxa de cura de ambos os sexos é a mesma e está em torno de 95%. Portanto, respondendo a questão levantada no início, sim, homens e mulheres são igualmentes suscetíveis a se curarem do vírus da covid-19."
   ]
  }
 ],
 "metadata": {
  "kernelspec": {
   "display_name": "Python 3 (ipykernel)",
   "language": "python",
   "name": "python3"
  },
  "language_info": {
   "codemirror_mode": {
    "name": "ipython",
    "version": 3
   },
   "file_extension": ".py",
   "mimetype": "text/x-python",
   "name": "python",
   "nbconvert_exporter": "python",
   "pygments_lexer": "ipython3",
   "version": "3.8.5"
  }
 },
 "nbformat": 4,
 "nbformat_minor": 5
}
